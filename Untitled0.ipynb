{
  "nbformat": 4,
  "nbformat_minor": 0,
  "metadata": {
    "colab": {
      "name": "Untitled0.ipynb",
      "provenance": [],
      "collapsed_sections": [
        "OhPAX1vFZeIP"
      ],
      "authorship_tag": "ABX9TyPgHAgm/HyG6LMabWQhXNYx",
      "include_colab_link": true
    },
    "kernelspec": {
      "name": "python3",
      "display_name": "Python 3"
    },
    "language_info": {
      "name": "python"
    },
    "accelerator": "GPU"
  },
  "cells": [
    {
      "cell_type": "markdown",
      "metadata": {
        "id": "view-in-github",
        "colab_type": "text"
      },
      "source": [
        "<a href=\"https://colab.research.google.com/github/rajkumar4you/Python_codes/blob/code_change/Untitled0.ipynb\" target=\"_parent\"><img src=\"https://colab.research.google.com/assets/colab-badge.svg\" alt=\"Open In Colab\"/></a>"
      ]
    },
    {
      "cell_type": "markdown",
      "source": [
        "#Assignment"
      ],
      "metadata": {
        "id": "Hketx0i0ZVcu"
      }
    },
    {
      "cell_type": "markdown",
      "source": [
        "###Write a program to find the factors of a given number and check whether the\n",
        "###factor is even or odd"
      ],
      "metadata": {
        "id": "OhPAX1vFZeIP"
      }
    },
    {
      "cell_type": "code",
      "source": [
        "import math\n",
        "n = eval(input(\"Enter the Number : \"))\n",
        "l=[]\n",
        "for i in range(1,int(math.sqrt(n))):\n",
        "  if n%i==0:\n",
        "    l.append(i)\n",
        "    if(i!=n/i):\n",
        "      l.append(int(n/i))\n",
        "#print(l)\n",
        "l.sort()\n",
        "l1=[]\n",
        "dict={}\n",
        "for i in l:\n",
        "  if i%2==0:\n",
        "    dict[i]=\"Even\"\n",
        "  else:\n",
        "    dict[i]=\"Odd\"\n",
        "print(dict)            \n"
      ],
      "metadata": {
        "colab": {
          "base_uri": "https://localhost:8080/"
        },
        "id": "-AeVPQhCZ07L",
        "outputId": "1b912a3e-9d42-4bd3-8a1a-48993edca96c"
      },
      "execution_count": 11,
      "outputs": [
        {
          "output_type": "stream",
          "name": "stdout",
          "text": [
            "Enter the Number : 100\n",
            "{1: 'Odd', 2: 'Even', 4: 'Even', 5: 'Odd', 20: 'Even', 25: 'Odd', 50: 'Even', 100: 'Even'}\n"
          ]
        }
      ]
    },
    {
      "cell_type": "markdown",
      "source": [
        "###Write a code that accepts a sequence of words as input and prints the words in a sequence after sorting them alphabetically.\n"
      ],
      "metadata": {
        "id": "LImk-ycPgCYN"
      }
    },
    {
      "cell_type": "code",
      "source": [
        "stri = input(\"Enter the String :\").split(\" \")\n",
        "print(sorted(stri))"
      ],
      "metadata": {
        "colab": {
          "base_uri": "https://localhost:8080/"
        },
        "id": "DKg9XnRfgMjr",
        "outputId": "5ef0e428-53c7-4070-b30e-2d95e1533ecb"
      },
      "execution_count": 18,
      "outputs": [
        {
          "output_type": "stream",
          "name": "stdout",
          "text": [
            "Enter the String :Hello My name is Rajkumar Panwar\n",
            "['Hello', 'My', 'Panwar', 'Rajkumar', 'is', 'name']\n"
          ]
        }
      ]
    },
    {
      "cell_type": "markdown",
      "source": [
        "###Write a program that will find all the numbers between 1000 and 3000 (both excluded) such that each digit of a number is an odd number. Print the number of such elements\n"
      ],
      "metadata": {
        "id": "1kLVEGm-kA5n"
      }
    },
    {
      "cell_type": "code",
      "source": [
        "l=[]\n",
        "for i in range(1001,3000):\n",
        "  flag=0\n",
        "  #print(i)\n",
        "  ele=int(i)\n",
        "  while(ele>0):\n",
        "    r = ele%10\n",
        "    #print(r) \n",
        "    if(r%2==0):\n",
        "      flag=1\n",
        "      break\n",
        "    ele = int(ele/10) \n",
        "  if(flag==0):\n",
        "   l.append(i)\n",
        "print(l)        "
      ],
      "metadata": {
        "colab": {
          "base_uri": "https://localhost:8080/"
        },
        "id": "Msj3CSmvkI9c",
        "outputId": "2f69f7c1-e116-4094-9a20-f9b17140a021"
      },
      "execution_count": 7,
      "outputs": [
        {
          "output_type": "stream",
          "name": "stdout",
          "text": [
            "[1111, 1113, 1115, 1117, 1119, 1131, 1133, 1135, 1137, 1139, 1151, 1153, 1155, 1157, 1159, 1171, 1173, 1175, 1177, 1179, 1191, 1193, 1195, 1197, 1199, 1311, 1313, 1315, 1317, 1319, 1331, 1333, 1335, 1337, 1339, 1351, 1353, 1355, 1357, 1359, 1371, 1373, 1375, 1377, 1379, 1391, 1393, 1395, 1397, 1399, 1511, 1513, 1515, 1517, 1519, 1531, 1533, 1535, 1537, 1539, 1551, 1553, 1555, 1557, 1559, 1571, 1573, 1575, 1577, 1579, 1591, 1593, 1595, 1597, 1599, 1711, 1713, 1715, 1717, 1719, 1731, 1733, 1735, 1737, 1739, 1751, 1753, 1755, 1757, 1759, 1771, 1773, 1775, 1777, 1779, 1791, 1793, 1795, 1797, 1799, 1911, 1913, 1915, 1917, 1919, 1931, 1933, 1935, 1937, 1939, 1951, 1953, 1955, 1957, 1959, 1971, 1973, 1975, 1977, 1979, 1991, 1993, 1995, 1997, 1999]\n"
          ]
        }
      ]
    },
    {
      "cell_type": "markdown",
      "source": [
        "###Write a program that accepts a string and calculates the number of letters and digits.\n"
      ],
      "metadata": {
        "id": "SPbckwvj81Gu"
      }
    },
    {
      "cell_type": "code",
      "source": [
        "s = input(\"Enter the string : \")\n",
        "num=alpha=0\n",
        "for i in s:\n",
        "  if(i.isnumeric()):\n",
        "    num+=1\n",
        "  elif(i.isalpha()):\n",
        "    alpha+=1\n",
        "print(\"LETTERS: -\",alpha)\n",
        "print(\"DIGITS: -\",num)\n",
        "\n"
      ],
      "metadata": {
        "colab": {
          "base_uri": "https://localhost:8080/"
        },
        "id": "7iQrnToq83pC",
        "outputId": "2acfed55-666b-4e52-823a-9b4cde930518"
      },
      "execution_count": 13,
      "outputs": [
        {
          "output_type": "stream",
          "name": "stdout",
          "text": [
            "Enter the string : 12rajku123\n",
            "LETTERS: - 5\n",
            "DIGITS: - 5\n"
          ]
        }
      ]
    },
    {
      "cell_type": "markdown",
      "source": [
        "###Design a code which will find whether the given number is Palindrome number or not."
      ],
      "metadata": {
        "id": "s9o7F6x8-SrP"
      }
    },
    {
      "cell_type": "code",
      "source": [
        "num = input(\"Enter the Number : \")\n",
        "num2 = num[::-1]\n",
        "print(num2)\n",
        "if(num==num2):\n",
        "  print(\"It is a Palindrome Number.\")\n",
        "else:\n",
        "  print(\"It is not a Palindrome Number.\")  "
      ],
      "metadata": {
        "colab": {
          "base_uri": "https://localhost:8080/"
        },
        "id": "5vUB0N_3-Tnp",
        "outputId": "cca484ff-b672-4947-d543-ddcc05c42390"
      },
      "execution_count": 2,
      "outputs": [
        {
          "output_type": "stream",
          "name": "stdout",
          "text": [
            "Enter the Number : 1234\n",
            "4321\n",
            "It is not a Palindrome Number.\n"
          ]
        }
      ]
    },
    {
      "cell_type": "code",
      "source": [
        "\n"
      ],
      "metadata": {
        "id": "9hXH7sc_-q4h"
      },
      "execution_count": null,
      "outputs": []
    }
  ]
}